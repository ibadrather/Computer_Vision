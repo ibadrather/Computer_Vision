{
 "cells": [
  {
   "cell_type": "code",
   "execution_count": null,
   "metadata": {
    "id": "zX4Kg8DUTKWO"
   },
   "outputs": [],
   "source": [
    "#@title Licensed under the Apache License, Version 2.0 (the \"License\");\n",
    "# you may not use this file except in compliance with the License.\n",
    "# You may obtain a copy of the License at\n",
    "#\n",
    "# https://www.apache.org/licenses/LICENSE-2.0\n",
    "#\n",
    "# Unless required by applicable law or agreed to in writing, software\n",
    "# distributed under the License is distributed on an \"AS IS\" BASIS,\n",
    "# WITHOUT WARRANTIES OR CONDITIONS OF ANY KIND, either express or implied.\n",
    "# See the License for the specific language governing permissions and\n",
    "# limitations under the License."
   ]
  },
  {
   "cell_type": "code",
   "execution_count": 1,
   "metadata": {
    "executionInfo": {
     "elapsed": 4687,
     "status": "ok",
     "timestamp": 1617795374376,
     "user": {
      "displayName": "Ibad Rather",
      "photoUrl": "https://lh3.googleusercontent.com/a-/AOh14GgrW0WL8_uTTQEvlV_IJ4oBk0MUo3vGvuZEM8Pz=s64",
      "userId": "02083681240167841387"
     },
     "user_tz": -120
    },
    "id": "dn-6c02VmqiN"
   },
   "outputs": [],
   "source": [
    "# In this exercise you will train a CNN on the FULL Cats-v-dogs dataset\n",
    "# This will require you doing a lot of data preprocessing because\n",
    "# the dataset isn't split into training and validation for you\n",
    "# This code block has all the required inputs\n",
    "import os\n",
    "import zipfile\n",
    "import random\n",
    "import tensorflow as tf\n",
    "from tensorflow.keras.optimizers import RMSprop\n",
    "from tensorflow.keras.preprocessing.image import ImageDataGenerator\n",
    "from shutil import copyfile"
   ]
  },
  {
   "cell_type": "code",
   "execution_count": 2,
   "metadata": {
    "colab": {
     "base_uri": "https://localhost:8080/"
    },
    "executionInfo": {
     "elapsed": 17696,
     "status": "ok",
     "timestamp": 1617795399467,
     "user": {
      "displayName": "Ibad Rather",
      "photoUrl": "https://lh3.googleusercontent.com/a-/AOh14GgrW0WL8_uTTQEvlV_IJ4oBk0MUo3vGvuZEM8Pz=s64",
      "userId": "02083681240167841387"
     },
     "user_tz": -120
    },
    "id": "3sd9dQWa23aj",
    "outputId": "12902bc6-c633-448c-9547-f39c64515c86"
   },
   "outputs": [
    {
     "name": "stdout",
     "output_type": "stream",
     "text": [
      "--2021-04-07 11:36:23--  https://download.microsoft.com/download/3/E/1/3E1C3F21-ECDB-4869-8368-6DEBA77B919F/kagglecatsanddogs_3367a.zip\n",
      "Resolving download.microsoft.com (download.microsoft.com)... 23.78.216.154, 2600:1417:76:586::e59, 2600:1417:76:58e::e59\n",
      "Connecting to download.microsoft.com (download.microsoft.com)|23.78.216.154|:443... connected.\n",
      "HTTP request sent, awaiting response... 200 OK\n",
      "Length: 824894548 (787M) [application/octet-stream]\n",
      "Saving to: ‘/tmp/cats-and-dogs.zip’\n",
      "\n",
      "/tmp/cats-and-dogs. 100%[===================>] 786.68M   188MB/s    in 4.3s    \n",
      "\n",
      "2021-04-07 11:36:27 (185 MB/s) - ‘/tmp/cats-and-dogs.zip’ saved [824894548/824894548]\n",
      "\n"
     ]
    }
   ],
   "source": [
    "# This code block downloads the full Cats-v-Dogs dataset and stores it as \n",
    "# cats-and-dogs.zip. It then unzips it to /tmp\n",
    "# which will create a tmp/PetImages directory containing subdirectories\n",
    "# called 'Cat' and 'Dog' (that's how the original researchers structured it)\n",
    "# If the URL doesn't work, \n",
    "# .   visit https://www.microsoft.com/en-us/download/confirmation.aspx?id=54765\n",
    "# And right click on the 'Download Manually' link to get a new URL\n",
    "\n",
    "!wget --no-check-certificate \\\n",
    "    \"https://download.microsoft.com/download/3/E/1/3E1C3F21-ECDB-4869-8368-6DEBA77B919F/kagglecatsanddogs_3367a.zip\" \\\n",
    "    -O \"/tmp/cats-and-dogs.zip\"\n",
    "\n",
    "local_zip = '/tmp/cats-and-dogs.zip'\n",
    "zip_ref = zipfile.ZipFile(local_zip, 'r')\n",
    "zip_ref.extractall('/tmp')\n",
    "zip_ref.close()\n"
   ]
  },
  {
   "cell_type": "code",
   "execution_count": 3,
   "metadata": {
    "colab": {
     "base_uri": "https://localhost:8080/"
    },
    "executionInfo": {
     "elapsed": 13533,
     "status": "ok",
     "timestamp": 1617795399468,
     "user": {
      "displayName": "Ibad Rather",
      "photoUrl": "https://lh3.googleusercontent.com/a-/AOh14GgrW0WL8_uTTQEvlV_IJ4oBk0MUo3vGvuZEM8Pz=s64",
      "userId": "02083681240167841387"
     },
     "user_tz": -120
    },
    "id": "gi3yD62a6X3S",
    "outputId": "dbec90a5-e64d-4225-beb7-b7e0df756f31"
   },
   "outputs": [
    {
     "name": "stdout",
     "output_type": "stream",
     "text": [
      "12501\n",
      "12501\n"
     ]
    }
   ],
   "source": [
    "print(len(os.listdir('/tmp/PetImages/Cat/')))\n",
    "print(len(os.listdir('/tmp/PetImages/Dog/')))\n",
    "\n",
    "# Expected Output:\n",
    "# 12501\n",
    "# 12501"
   ]
  },
  {
   "cell_type": "code",
   "execution_count": 4,
   "metadata": {
    "colab": {
     "base_uri": "https://localhost:8080/"
    },
    "executionInfo": {
     "elapsed": 2316,
     "status": "ok",
     "timestamp": 1617795408689,
     "user": {
      "displayName": "Ibad Rather",
      "photoUrl": "https://lh3.googleusercontent.com/a-/AOh14GgrW0WL8_uTTQEvlV_IJ4oBk0MUo3vGvuZEM8Pz=s64",
      "userId": "02083681240167841387"
     },
     "user_tz": -120
    },
    "id": "F-QkLjxpmyK2",
    "outputId": "e91228d7-0e68-4c41-beb4-6d5a0156d2e9"
   },
   "outputs": [
    {
     "name": "stdout",
     "output_type": "stream",
     "text": [
      "{folder} created. /tmp/cats-v-dogs/\n",
      "{folder} created. /tmp/cats-v-dogs/training/\n",
      "{folder} created. /tmp/cats-v-dogs/training/cats\n",
      "{folder} created. /tmp/cats-v-dogs/training/dogs\n",
      "{folder} created. /tmp/cats-v-dogs/testing/\n",
      "{folder} created. /tmp/cats-v-dogs/testing/cats\n",
      "{folder} created. /tmp/cats-v-dogs/testing/dogs\n"
     ]
    }
   ],
   "source": [
    "# Use os.mkdir to create your directories\n",
    "# You will need a directory for cats-v-dogs, and subdirectories for training\n",
    "# and testing. These in turn will need subdirectories for 'cats' and 'dogs'\n",
    "folder_list = [\"/tmp/cats-v-dogs/\", \"/tmp/cats-v-dogs/training/\", \"/tmp/cats-v-dogs/training/cats\",\n",
    "               \"/tmp/cats-v-dogs/training/dogs\", \"/tmp/cats-v-dogs/testing/\", \"/tmp/cats-v-dogs/testing/cats\",\n",
    "               \"/tmp/cats-v-dogs/testing/dogs\"]\n",
    "for folder in folder_list:\n",
    "    try:\n",
    "        if os.path.isdir(folder):\n",
    "            print(f\"{folder} already exists\".format(folder))\n",
    "        else:\n",
    "            os.mkdir(folder)\n",
    "            print(\"{folder} created.\",format(folder))\n",
    "    except OSError:\n",
    "        print(\"Error\")"
   ]
  },
  {
   "cell_type": "code",
   "execution_count": 6,
   "metadata": {
    "executionInfo": {
     "elapsed": 5274,
     "status": "ok",
     "timestamp": 1617795437951,
     "user": {
      "displayName": "Ibad Rather",
      "photoUrl": "https://lh3.googleusercontent.com/a-/AOh14GgrW0WL8_uTTQEvlV_IJ4oBk0MUo3vGvuZEM8Pz=s64",
      "userId": "02083681240167841387"
     },
     "user_tz": -120
    },
    "id": "zvSODo0f9LaU"
   },
   "outputs": [],
   "source": [
    "# Write a python function called split_data which takes\n",
    "# a SOURCE directory containing the files\n",
    "# a TRAINING directory that a portion of the files will be copied to\n",
    "# a TESTING directory that a portion of the files will be copie to\n",
    "# a SPLIT SIZE to determine the portion\n",
    "# The files should also be randomized, so that the training set is a random\n",
    "# X% of the files, and the test set is the remaining files\n",
    "# SO, for example, if SOURCE is PetImages/Cat, and SPLIT SIZE is .9\n",
    "# Then 90% of the images in PetImages/Cat will be copied to the TRAINING dir\n",
    "# and 10% of the images will be copied to the TESTING dir\n",
    "# Also -- All images should be checked, and if they have a zero file length,\n",
    "# they will not be copied over\n",
    "#\n",
    "# os.listdir(DIRECTORY) gives you a listing of the contents of that directory\n",
    "# os.path.getsize(PATH) gives you the size of the file\n",
    "# copyfile(source, destination) copies a file from source to destination\n",
    "# random.sample(list, len(list)) shuffles a list\n",
    "def split_data(SOURCE, TRAINING, TESTING, SPLIT_SIZE):\n",
    "# YOUR CODE STARTS HERE\n",
    "    all_files = []\n",
    "    for file in os.listdir(SOURCE):\n",
    "        if os.path.getsize(SOURCE + file):\n",
    "            all_files.append(file)\n",
    "    \n",
    "    split = int(len(all_files) * SPLIT_SIZE)\n",
    "    all_files_random = random.sample(all_files, len(all_files))\n",
    "    \n",
    "    training_files = all_files_random[:split]\n",
    "    testing_files = all_files_random[split:]\n",
    "    \n",
    "    for file in training_files:\n",
    "        copyfile(SOURCE + file, TRAINING + file)\n",
    "    \n",
    "    for file in testing_files:\n",
    "        copyfile(SOURCE + file, TESTING + file)\n",
    "# YOUR CODE ENDS HERE\n",
    "\n",
    "\n",
    "CAT_SOURCE_DIR = \"/tmp/PetImages/Cat/\"\n",
    "TRAINING_CATS_DIR = \"/tmp/cats-v-dogs/training/cats/\"\n",
    "TESTING_CATS_DIR = \"/tmp/cats-v-dogs/testing/cats/\"\n",
    "DOG_SOURCE_DIR = \"/tmp/PetImages/Dog/\"\n",
    "TRAINING_DOGS_DIR = \"/tmp/cats-v-dogs/training/dogs/\"\n",
    "TESTING_DOGS_DIR = \"/tmp/cats-v-dogs/testing/dogs/\"\n",
    "\n",
    "split_size = .9\n",
    "split_data(CAT_SOURCE_DIR, TRAINING_CATS_DIR, TESTING_CATS_DIR, split_size)\n",
    "split_data(DOG_SOURCE_DIR, TRAINING_DOGS_DIR, TESTING_DOGS_DIR, split_size)\n",
    "\n",
    "# Expected output\n",
    "# 666.jpg is zero length, so ignoring\n",
    "# 11702.jpg is zero length, so ignoring"
   ]
  },
  {
   "cell_type": "code",
   "execution_count": 7,
   "metadata": {
    "colab": {
     "base_uri": "https://localhost:8080/"
    },
    "executionInfo": {
     "elapsed": 1188,
     "status": "ok",
     "timestamp": 1617795439572,
     "user": {
      "displayName": "Ibad Rather",
      "photoUrl": "https://lh3.googleusercontent.com/a-/AOh14GgrW0WL8_uTTQEvlV_IJ4oBk0MUo3vGvuZEM8Pz=s64",
      "userId": "02083681240167841387"
     },
     "user_tz": -120
    },
    "id": "luthalB76ufC",
    "outputId": "4bea112f-3bbb-46aa-ec11-cb0dcfa64b71"
   },
   "outputs": [
    {
     "name": "stdout",
     "output_type": "stream",
     "text": [
      "11250\n",
      "11250\n",
      "1250\n",
      "1250\n"
     ]
    }
   ],
   "source": [
    "print(len(os.listdir('/tmp/cats-v-dogs/training/cats/')))\n",
    "print(len(os.listdir('/tmp/cats-v-dogs/training/dogs/')))\n",
    "print(len(os.listdir('/tmp/cats-v-dogs/testing/cats/')))\n",
    "print(len(os.listdir('/tmp/cats-v-dogs/testing/dogs/')))\n",
    "\n",
    "# Expected output:\n",
    "# 11250\n",
    "# 11250\n",
    "# 1250\n",
    "# 1250"
   ]
  },
  {
   "cell_type": "code",
   "execution_count": 8,
   "metadata": {
    "executionInfo": {
     "elapsed": 7173,
     "status": "ok",
     "timestamp": 1617795472584,
     "user": {
      "displayName": "Ibad Rather",
      "photoUrl": "https://lh3.googleusercontent.com/a-/AOh14GgrW0WL8_uTTQEvlV_IJ4oBk0MUo3vGvuZEM8Pz=s64",
      "userId": "02083681240167841387"
     },
     "user_tz": -120
    },
    "id": "-BQrav4anTmj"
   },
   "outputs": [],
   "source": [
    "# DEFINE A KERAS MODEL TO CLASSIFY CATS V DOGS\n",
    "# USE AT LEAST 3 CONVOLUTION LAYERS\n",
    "model = tf.keras.models.Sequential([\n",
    "# YOUR CODE HERE\n",
    "# Note the input shape is the desired size of the image 150x150 with 3 bytes color\n",
    "    tf.keras.layers.Conv2D(16, (3,3), activation='relu', input_shape=(150, 150, 3)),\n",
    "    tf.keras.layers.MaxPooling2D(2,2),\n",
    "    tf.keras.layers.Conv2D(32, (3,3), activation='relu'),\n",
    "    tf.keras.layers.MaxPooling2D(2,2), \n",
    "    tf.keras.layers.Conv2D(64, (3,3), activation='relu'), \n",
    "    tf.keras.layers.MaxPooling2D(2,2),\n",
    "    # Flatten the results to feed into a DNN\n",
    "    tf.keras.layers.Flatten(), \n",
    "    # 512 neuron hidden layer\n",
    "    tf.keras.layers.Dense(512, activation='relu'), \n",
    "    # Only 1 output neuron. It will contain a value from 0-1 where 0 for 1 class ('cats') and 1 for the other ('dogs')\n",
    "    tf.keras.layers.Dense(1, activation='sigmoid')  \n",
    "])\n",
    "\n",
    "model.compile(optimizer=RMSprop(lr=0.001), loss='binary_crossentropy', metrics=['accuracy'])"
   ]
  },
  {
   "cell_type": "code",
   "execution_count": 9,
   "metadata": {
    "colab": {
     "base_uri": "https://localhost:8080/"
    },
    "executionInfo": {
     "elapsed": 2409,
     "status": "ok",
     "timestamp": 1617795608316,
     "user": {
      "displayName": "Ibad Rather",
      "photoUrl": "https://lh3.googleusercontent.com/a-/AOh14GgrW0WL8_uTTQEvlV_IJ4oBk0MUo3vGvuZEM8Pz=s64",
      "userId": "02083681240167841387"
     },
     "user_tz": -120
    },
    "id": "mlNjoJ5D61N6",
    "outputId": "f2c336a6-2513-4f24-e380-c1a07c4538ac"
   },
   "outputs": [
    {
     "name": "stdout",
     "output_type": "stream",
     "text": [
      "Found 22498 images belonging to 2 classes.\n",
      "Found 2500 images belonging to 2 classes.\n"
     ]
    }
   ],
   "source": [
    "TRAINING_DIR = \"/tmp/cats-v-dogs/training/\"   #YOUR CODE HERE\n",
    "train_datagen = ImageDataGenerator( rescale=1./255,\n",
    "      rotation_range=40,\n",
    "      width_shift_range=0.2,\n",
    "      height_shift_range=0.2,\n",
    "      shear_range=0.2,\n",
    "      zoom_range=0.2,\n",
    "      horizontal_flip=True,\n",
    "      fill_mode='nearest')#YOUR CODE HERE\n",
    "\n",
    "# NOTE: YOU MUST USE A BATCH SIZE OF 10 (batch_size=10) FOR THE \n",
    "# TRAIN GENERATOR.\n",
    "train_generator = train_datagen.flow_from_directory(TRAINING_DIR,\n",
    "                                                    batch_size=10,\n",
    "                                                    class_mode='binary',\n",
    "                                                    target_size=(150, 150)) #YOUR CODE HERE\n",
    "\n",
    "VALIDATION_DIR = \"/tmp/cats-v-dogs/testing\"   #YOUR CODE HERE\n",
    "validation_datagen = ImageDataGenerator( rescale = 1.0/255.)#YOUR CODE HERE\n",
    "\n",
    "# VALIDATION GENERATOR.\n",
    "validation_generator = validation_datagen.flow_from_directory(VALIDATION_DIR,\n",
    "                                                         batch_size=10,\n",
    "                                                         class_mode  = 'binary',\n",
    "                                                         target_size = (150, 150))  #YOUR CODE HERE\n",
    "\n",
    "# Expected Output:\n",
    "# Found 22498 images belonging to 2 classes.\n",
    "# Found 2500 images belonging to 2 classes."
   ]
  },
  {
   "cell_type": "code",
   "execution_count": 10,
   "metadata": {
    "colab": {
     "base_uri": "https://localhost:8080/"
    },
    "executionInfo": {
     "elapsed": 3334345,
     "status": "ok",
     "timestamp": 1617798948609,
     "user": {
      "displayName": "Ibad Rather",
      "photoUrl": "https://lh3.googleusercontent.com/a-/AOh14GgrW0WL8_uTTQEvlV_IJ4oBk0MUo3vGvuZEM8Pz=s64",
      "userId": "02083681240167841387"
     },
     "user_tz": -120
    },
    "id": "KyS4n53w7DxC",
    "outputId": "e6c44659-5af6-418f-b959-df21a6e9d56b"
   },
   "outputs": [
    {
     "name": "stdout",
     "output_type": "stream",
     "text": [
      "Epoch 1/15\n",
      "1453/2250 [==================>...........] - ETA: 1:14 - loss: 0.7566 - accuracy: 0.5793"
     ]
    },
    {
     "name": "stderr",
     "output_type": "stream",
     "text": [
      "/usr/local/lib/python3.7/dist-packages/PIL/TiffImagePlugin.py:770: UserWarning: Possibly corrupt EXIF data.  Expecting to read 32 bytes but only got 0. Skipping tag 270\n",
      "  \" Skipping tag %s\" % (size, len(data), tag)\n",
      "/usr/local/lib/python3.7/dist-packages/PIL/TiffImagePlugin.py:770: UserWarning: Possibly corrupt EXIF data.  Expecting to read 5 bytes but only got 0. Skipping tag 271\n",
      "  \" Skipping tag %s\" % (size, len(data), tag)\n",
      "/usr/local/lib/python3.7/dist-packages/PIL/TiffImagePlugin.py:770: UserWarning: Possibly corrupt EXIF data.  Expecting to read 8 bytes but only got 0. Skipping tag 272\n",
      "  \" Skipping tag %s\" % (size, len(data), tag)\n",
      "/usr/local/lib/python3.7/dist-packages/PIL/TiffImagePlugin.py:770: UserWarning: Possibly corrupt EXIF data.  Expecting to read 8 bytes but only got 0. Skipping tag 282\n",
      "  \" Skipping tag %s\" % (size, len(data), tag)\n",
      "/usr/local/lib/python3.7/dist-packages/PIL/TiffImagePlugin.py:770: UserWarning: Possibly corrupt EXIF data.  Expecting to read 8 bytes but only got 0. Skipping tag 283\n",
      "  \" Skipping tag %s\" % (size, len(data), tag)\n",
      "/usr/local/lib/python3.7/dist-packages/PIL/TiffImagePlugin.py:770: UserWarning: Possibly corrupt EXIF data.  Expecting to read 20 bytes but only got 0. Skipping tag 306\n",
      "  \" Skipping tag %s\" % (size, len(data), tag)\n",
      "/usr/local/lib/python3.7/dist-packages/PIL/TiffImagePlugin.py:770: UserWarning: Possibly corrupt EXIF data.  Expecting to read 48 bytes but only got 0. Skipping tag 532\n",
      "  \" Skipping tag %s\" % (size, len(data), tag)\n",
      "/usr/local/lib/python3.7/dist-packages/PIL/TiffImagePlugin.py:788: UserWarning: Corrupt EXIF data.  Expecting to read 2 bytes but only got 0. \n",
      "  warnings.warn(str(msg))\n"
     ]
    },
    {
     "name": "stdout",
     "output_type": "stream",
     "text": [
      "2250/2250 [==============================] - 250s 98ms/step - loss: 0.7241 - accuracy: 0.5961 - val_loss: 0.6023 - val_accuracy: 0.6808\n",
      "Epoch 2/15\n",
      "2250/2250 [==============================] - 220s 98ms/step - loss: 0.6172 - accuracy: 0.6690 - val_loss: 0.7109 - val_accuracy: 0.5996\n",
      "Epoch 3/15\n",
      "2250/2250 [==============================] - 220s 98ms/step - loss: 0.5844 - accuracy: 0.7052 - val_loss: 0.5625 - val_accuracy: 0.7536\n",
      "Epoch 4/15\n",
      "2250/2250 [==============================] - 221s 98ms/step - loss: 0.5822 - accuracy: 0.7113 - val_loss: 0.5292 - val_accuracy: 0.7428\n",
      "Epoch 5/15\n",
      "2250/2250 [==============================] - 220s 98ms/step - loss: 0.5782 - accuracy: 0.7108 - val_loss: 0.5130 - val_accuracy: 0.7492\n",
      "Epoch 6/15\n",
      "2250/2250 [==============================] - 222s 99ms/step - loss: 0.5790 - accuracy: 0.7145 - val_loss: 0.5419 - val_accuracy: 0.7360\n",
      "Epoch 7/15\n",
      "2250/2250 [==============================] - 220s 98ms/step - loss: 0.5843 - accuracy: 0.7175 - val_loss: 0.7046 - val_accuracy: 0.6936\n",
      "Epoch 8/15\n",
      "2250/2250 [==============================] - 221s 98ms/step - loss: 0.5771 - accuracy: 0.7188 - val_loss: 0.5025 - val_accuracy: 0.7640\n",
      "Epoch 9/15\n",
      "2250/2250 [==============================] - 219s 97ms/step - loss: 0.5805 - accuracy: 0.7255 - val_loss: 0.5129 - val_accuracy: 0.7760\n",
      "Epoch 10/15\n",
      "2250/2250 [==============================] - 222s 99ms/step - loss: 0.5662 - accuracy: 0.7242 - val_loss: 0.8072 - val_accuracy: 0.7108\n",
      "Epoch 11/15\n",
      "2250/2250 [==============================] - 219s 97ms/step - loss: 0.5628 - accuracy: 0.7310 - val_loss: 0.5394 - val_accuracy: 0.7700\n",
      "Epoch 12/15\n",
      "2250/2250 [==============================] - 220s 98ms/step - loss: 0.5673 - accuracy: 0.7321 - val_loss: 0.4962 - val_accuracy: 0.7848\n",
      "Epoch 13/15\n",
      "2250/2250 [==============================] - 220s 98ms/step - loss: 0.5657 - accuracy: 0.7310 - val_loss: 0.4683 - val_accuracy: 0.7944\n",
      "Epoch 14/15\n",
      "2250/2250 [==============================] - 219s 97ms/step - loss: 0.5541 - accuracy: 0.7382 - val_loss: 0.4833 - val_accuracy: 0.7964\n",
      "Epoch 15/15\n",
      "2250/2250 [==============================] - 220s 98ms/step - loss: 0.5430 - accuracy: 0.7460 - val_loss: 0.4846 - val_accuracy: 0.7968\n"
     ]
    }
   ],
   "source": [
    "history = model.fit(train_generator,\n",
    "                              epochs=15,\n",
    "                              verbose=1,\n",
    "                              validation_data=validation_generator)\n",
    "\n",
    "# The expectation here is that the model will train, and that accuracy will be > 95% on both training and validation\n",
    "# i.e. acc:A1 and val_acc:A2 will be visible, and both A1 and A2 will be > .9"
   ]
  },
  {
   "cell_type": "code",
   "execution_count": 11,
   "metadata": {
    "colab": {
     "base_uri": "https://localhost:8080/",
     "height": 562
    },
    "executionInfo": {
     "elapsed": 1499,
     "status": "ok",
     "timestamp": 1617799043207,
     "user": {
      "displayName": "Ibad Rather",
      "photoUrl": "https://lh3.googleusercontent.com/a-/AOh14GgrW0WL8_uTTQEvlV_IJ4oBk0MUo3vGvuZEM8Pz=s64",
      "userId": "02083681240167841387"
     },
     "user_tz": -120
    },
    "id": "MWZrJN4-65RC",
    "outputId": "cc82f6af-8535-4915-f56b-33949663f3b9"
   },
   "outputs": [
    {
     "data": {
      "text/plain": [
       "Text(0.5, 1.0, 'Training and validation loss')"
      ]
     },
     "execution_count": 11,
     "metadata": {
      "tags": []
     },
     "output_type": "execute_result"
    },
    {
     "data": {
      "image/png": "[encoded data removed]",
      "text/plain": [
       "<Figure size 432x288 with 1 Axes>"
      ]
     },
     "metadata": {
      "needs_background": "light",
      "tags": []
     },
     "output_type": "display_data"
    },
    {
     "data": {
      "image/png": "[encoded data removed]",
      "text/plain": [
       "<Figure size 432x288 with 1 Axes>"
      ]
     },
     "metadata": {
      "needs_background": "light",
      "tags": []
     },
     "output_type": "display_data"
    }
   ],
   "source": [
    "# PLOT LOSS AND ACCURACY\n",
    "%matplotlib inline\n",
    "\n",
    "import matplotlib.image  as mpimg\n",
    "import matplotlib.pyplot as plt\n",
    "\n",
    "#-----------------------------------------------------------\n",
    "# Retrieve a list of list results on training and test data\n",
    "# sets for each training epoch\n",
    "#-----------------------------------------------------------\n",
    "acc=history.history['accuracy']\n",
    "val_acc=history.history['val_accuracy']\n",
    "loss=history.history['loss']\n",
    "val_loss=history.history['val_loss']\n",
    "\n",
    "epochs=range(len(acc)) # Get number of epochs\n",
    "\n",
    "#------------------------------------------------\n",
    "# Plot training and validation accuracy per epoch\n",
    "#------------------------------------------------\n",
    "plt.plot(epochs, acc, 'r', \"Training Accuracy\")\n",
    "plt.plot(epochs, val_acc, 'b', \"Validation Accuracy\")\n",
    "plt.title('Training and validation accuracy')\n",
    "plt.figure()\n",
    "\n",
    "#------------------------------------------------\n",
    "# Plot training and validation loss per epoch\n",
    "#------------------------------------------------\n",
    "plt.plot(epochs, loss, 'r', \"Training Loss\")\n",
    "plt.plot(epochs, val_loss, 'b', \"Validation Loss\")\n",
    "\n",
    "\n",
    "plt.title('Training and validation loss')\n",
    "\n",
    "# Desired output. Charts with training and validation metrics. No crash :)"
   ]
  },
  {
   "cell_type": "code",
   "execution_count": 12,
   "metadata": {
    "colab": {
     "base_uri": "https://localhost:8080/",
     "height": 128
    },
    "executionInfo": {
     "elapsed": 1947,
     "status": "error",
     "timestamp": 1617799050163,
     "user": {
      "displayName": "Ibad Rather",
      "photoUrl": "https://lh3.googleusercontent.com/a-/AOh14GgrW0WL8_uTTQEvlV_IJ4oBk0MUo3vGvuZEM8Pz=s64",
      "userId": "02083681240167841387"
     },
     "user_tz": -120
    },
    "id": "LqL6FYUrtXpf",
    "outputId": "c0038f71-4ea8-4464-8956-b23a3f13f4ca"
   },
   "outputs": [
    {
     "ename": "SyntaxError",
     "evalue": "ignored",
     "output_type": "error",
     "traceback": [
      "\u001b[0;36m  File \u001b[0;32m\"<ipython-input-12-c099e8bfd509>\"\u001b[0;36m, line \u001b[0;32m15\u001b[0m\n\u001b[0;31m    x = image.img_to_array(img)\u001b[0m\n\u001b[0m      ^\u001b[0m\n\u001b[0;31mSyntaxError\u001b[0m\u001b[0;31m:\u001b[0m invalid syntax\n"
     ]
    }
   ],
   "source": [
    "# Here's a codeblock just for fun. You should be able to upload an image here \n",
    "# and have it classified without crashing\n",
    "\n",
    "import numpy as np\n",
    "from google.colab import files\n",
    "from keras.preprocessing import image\n",
    "\n",
    "uploaded = files.upload()\n",
    "\n",
    "for fn in uploaded.keys():\n",
    " \n",
    "  # predicting images\n",
    "  path = '/content/' + fn\n",
    "  img = image.load_img(path, target_size=(# YOUR CODE HERE))\n",
    "  x = image.img_to_array(img)\n",
    "  x = np.expand_dims(x, axis=0)\n",
    "\n",
    "  images = np.vstack([x])\n",
    "  classes = model.predict(images, batch_size=10)\n",
    "  print(classes[0])\n",
    "  if classes[0]>0.5:\n",
    "    print(fn + \" is a dog\")\n",
    "  else:\n",
    "    print(fn + \" is a cat\")"
   ]
  },
  {
   "cell_type": "code",
   "execution_count": 13,
   "metadata": {
    "executionInfo": {
     "elapsed": 1470,
     "status": "ok",
     "timestamp": 1617799056591,
     "user": {
      "displayName": "Ibad Rather",
      "photoUrl": "https://lh3.googleusercontent.com/a-/AOh14GgrW0WL8_uTTQEvlV_IJ4oBk0MUo3vGvuZEM8Pz=s64",
      "userId": "02083681240167841387"
     },
     "user_tz": -120
    },
    "id": "R5cmO639UF0I"
   },
   "outputs": [],
   "source": [
    "model.save(\"cat_dog_aug.h5\")"
   ]
  }
 ],
 "metadata": {
  "accelerator": "GPU",
  "colab": {
   "collapsed_sections": [],
   "name": "Copy of Exercise 6 - Question.ipynb",
   "provenance": [
    {
     "file_id": "https://github.com/lmoroney/dlaicourse/blob/master/Exercises/Exercise%206%20-%20Cats%20v%20Dogs%20with%20Augmentation/Exercise%206%20-%20Question.ipynb",
     "timestamp": 1617795285970
    }
   ],
   "toc_visible": true
  },
  "kernelspec": {
   "display_name": "Python 3",
   "language": "python",
   "name": "python3"
  },
  "language_info": {
   "codemirror_mode": {
    "name": "ipython",
    "version": 3
   },
   "file_extension": ".py",
   "mimetype": "text/x-python",
   "name": "python",
   "nbconvert_exporter": "python",
   "pygments_lexer": "ipython3",
   "version": "3.8.3"
  }
 },
 "nbformat": 4,
 "nbformat_minor": 1
}
