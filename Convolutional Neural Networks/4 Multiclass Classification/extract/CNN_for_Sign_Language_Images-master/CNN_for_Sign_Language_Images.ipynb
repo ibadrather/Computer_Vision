{
 "cells": [
  {
   "cell_type": "markdown",
   "metadata": {
    "_uuid": "385e43a763cf2a2e696526612151db7c079f8909"
   },
   "source": [
    "# Multi-class Classification: CNN for Sign Language Images"
   ]
  },
  {
   "cell_type": "markdown",
   "metadata": {
    "_kg_hide-input": true,
    "_uuid": "20bf62e3f3bd4132b3334e4351182b9f95dd3f1f"
   },
   "source": [
    "![](http://www.afrikareporter.com/wp-content/uploads/2015/08/cms-Sign-Language.png)"
   ]
  },
  {
   "cell_type": "markdown",
   "metadata": {},
   "source": [
    "### 手順\n",
    "1. Preprocess Data\n",
    "2. Build and Compile A Model\n",
    "3. Reshape Features and Encoded Target Data\n",
    "4. Fit Training and Validation Data to Model\n",
    "5. Evaluate Model\n",
    "6. Prediction"
   ]
  },
  {
   "cell_type": "markdown",
   "metadata": {
    "_uuid": "43610b28fcb6c9bd7cb7faf5e16b5b7036e2d63e"
   },
   "source": [
    "## 1. Load the dataset"
   ]
  },
  {
   "cell_type": "code",
   "execution_count": 40,
   "metadata": {
    "_kg_hide-input": true,
    "_uuid": "bbcbb713210c674a54142d4ade11072985c94754"
   },
   "outputs": [],
   "source": [
    "import numpy as np\n",
    "import pandas as pd\n",
    "import matplotlib.pyplot as plt\n",
    "import seaborn as sns\n",
    "%matplotlib inline"
   ]
  },
  {
   "cell_type": "code",
   "execution_count": 41,
   "metadata": {
    "_kg_hide-input": true,
    "_uuid": "39cff8696636f21dd5b26854b6d608a73a635345"
   },
   "outputs": [],
   "source": [
    "train = pd.read_csv(\"sign_mnist_train.csv\")\n",
    "test = pd.read_csv(\"sign_mnist_test.csv\")"
   ]
  },
  {
   "cell_type": "code",
   "execution_count": 42,
   "metadata": {
    "_kg_hide-input": true,
    "_uuid": "1704cf375513a33e8c0d963feebca7b783b5a0b5"
   },
   "outputs": [
    {
     "data": {
      "text/html": [
       "<div>\n",
       "<style scoped>\n",
       "    .dataframe tbody tr th:only-of-type {\n",
       "        vertical-align: middle;\n",
       "    }\n",
       "\n",
       "    .dataframe tbody tr th {\n",
       "        vertical-align: top;\n",
       "    }\n",
       "\n",
       "    .dataframe thead th {\n",
       "        text-align: right;\n",
       "    }\n",
       "</style>\n",
       "<table border=\"1\" class=\"dataframe\">\n",
       "  <thead>\n",
       "    <tr style=\"text-align: right;\">\n",
       "      <th></th>\n",
       "      <th>label</th>\n",
       "      <th>pixel1</th>\n",
       "      <th>pixel2</th>\n",
       "      <th>pixel3</th>\n",
       "      <th>pixel4</th>\n",
       "      <th>pixel5</th>\n",
       "      <th>pixel6</th>\n",
       "      <th>pixel7</th>\n",
       "      <th>pixel8</th>\n",
       "      <th>pixel9</th>\n",
       "      <th>...</th>\n",
       "      <th>pixel775</th>\n",
       "      <th>pixel776</th>\n",
       "      <th>pixel777</th>\n",
       "      <th>pixel778</th>\n",
       "      <th>pixel779</th>\n",
       "      <th>pixel780</th>\n",
       "      <th>pixel781</th>\n",
       "      <th>pixel782</th>\n",
       "      <th>pixel783</th>\n",
       "      <th>pixel784</th>\n",
       "    </tr>\n",
       "  </thead>\n",
       "  <tbody>\n",
       "    <tr>\n",
       "      <th>0</th>\n",
       "      <td>3</td>\n",
       "      <td>107</td>\n",
       "      <td>118</td>\n",
       "      <td>127</td>\n",
       "      <td>134</td>\n",
       "      <td>139</td>\n",
       "      <td>143</td>\n",
       "      <td>146</td>\n",
       "      <td>150</td>\n",
       "      <td>153</td>\n",
       "      <td>...</td>\n",
       "      <td>207</td>\n",
       "      <td>207</td>\n",
       "      <td>207</td>\n",
       "      <td>207</td>\n",
       "      <td>206</td>\n",
       "      <td>206</td>\n",
       "      <td>206</td>\n",
       "      <td>204</td>\n",
       "      <td>203</td>\n",
       "      <td>202</td>\n",
       "    </tr>\n",
       "    <tr>\n",
       "      <th>1</th>\n",
       "      <td>6</td>\n",
       "      <td>155</td>\n",
       "      <td>157</td>\n",
       "      <td>156</td>\n",
       "      <td>156</td>\n",
       "      <td>156</td>\n",
       "      <td>157</td>\n",
       "      <td>156</td>\n",
       "      <td>158</td>\n",
       "      <td>158</td>\n",
       "      <td>...</td>\n",
       "      <td>69</td>\n",
       "      <td>149</td>\n",
       "      <td>128</td>\n",
       "      <td>87</td>\n",
       "      <td>94</td>\n",
       "      <td>163</td>\n",
       "      <td>175</td>\n",
       "      <td>103</td>\n",
       "      <td>135</td>\n",
       "      <td>149</td>\n",
       "    </tr>\n",
       "    <tr>\n",
       "      <th>2</th>\n",
       "      <td>2</td>\n",
       "      <td>187</td>\n",
       "      <td>188</td>\n",
       "      <td>188</td>\n",
       "      <td>187</td>\n",
       "      <td>187</td>\n",
       "      <td>186</td>\n",
       "      <td>187</td>\n",
       "      <td>188</td>\n",
       "      <td>187</td>\n",
       "      <td>...</td>\n",
       "      <td>202</td>\n",
       "      <td>201</td>\n",
       "      <td>200</td>\n",
       "      <td>199</td>\n",
       "      <td>198</td>\n",
       "      <td>199</td>\n",
       "      <td>198</td>\n",
       "      <td>195</td>\n",
       "      <td>194</td>\n",
       "      <td>195</td>\n",
       "    </tr>\n",
       "    <tr>\n",
       "      <th>3</th>\n",
       "      <td>2</td>\n",
       "      <td>211</td>\n",
       "      <td>211</td>\n",
       "      <td>212</td>\n",
       "      <td>212</td>\n",
       "      <td>211</td>\n",
       "      <td>210</td>\n",
       "      <td>211</td>\n",
       "      <td>210</td>\n",
       "      <td>210</td>\n",
       "      <td>...</td>\n",
       "      <td>235</td>\n",
       "      <td>234</td>\n",
       "      <td>233</td>\n",
       "      <td>231</td>\n",
       "      <td>230</td>\n",
       "      <td>226</td>\n",
       "      <td>225</td>\n",
       "      <td>222</td>\n",
       "      <td>229</td>\n",
       "      <td>163</td>\n",
       "    </tr>\n",
       "    <tr>\n",
       "      <th>4</th>\n",
       "      <td>13</td>\n",
       "      <td>164</td>\n",
       "      <td>167</td>\n",
       "      <td>170</td>\n",
       "      <td>172</td>\n",
       "      <td>176</td>\n",
       "      <td>179</td>\n",
       "      <td>180</td>\n",
       "      <td>184</td>\n",
       "      <td>185</td>\n",
       "      <td>...</td>\n",
       "      <td>92</td>\n",
       "      <td>105</td>\n",
       "      <td>105</td>\n",
       "      <td>108</td>\n",
       "      <td>133</td>\n",
       "      <td>163</td>\n",
       "      <td>157</td>\n",
       "      <td>163</td>\n",
       "      <td>164</td>\n",
       "      <td>179</td>\n",
       "    </tr>\n",
       "  </tbody>\n",
       "</table>\n",
       "<p>5 rows × 785 columns</p>\n",
       "</div>"
      ],
      "text/plain": [
       "   label  pixel1  pixel2  pixel3  pixel4  pixel5  pixel6  pixel7  pixel8  \\\n",
       "0      3     107     118     127     134     139     143     146     150   \n",
       "1      6     155     157     156     156     156     157     156     158   \n",
       "2      2     187     188     188     187     187     186     187     188   \n",
       "3      2     211     211     212     212     211     210     211     210   \n",
       "4     13     164     167     170     172     176     179     180     184   \n",
       "\n",
       "   pixel9    ...     pixel775  pixel776  pixel777  pixel778  pixel779  \\\n",
       "0     153    ...          207       207       207       207       206   \n",
       "1     158    ...           69       149       128        87        94   \n",
       "2     187    ...          202       201       200       199       198   \n",
       "3     210    ...          235       234       233       231       230   \n",
       "4     185    ...           92       105       105       108       133   \n",
       "\n",
       "   pixel780  pixel781  pixel782  pixel783  pixel784  \n",
       "0       206       206       204       203       202  \n",
       "1       163       175       103       135       149  \n",
       "2       199       198       195       194       195  \n",
       "3       226       225       222       229       163  \n",
       "4       163       157       163       164       179  \n",
       "\n",
       "[5 rows x 785 columns]"
      ]
     },
     "execution_count": 42,
     "metadata": {},
     "output_type": "execute_result"
    }
   ],
   "source": [
    "train.head()"
   ]
  },
  {
   "cell_type": "code",
   "execution_count": 43,
   "metadata": {
    "_uuid": "8c2df551d7a771cb4fdc25b574a48a1652f251f0"
   },
   "outputs": [
    {
     "data": {
      "text/plain": [
       "(27455, 785)"
      ]
     },
     "execution_count": 43,
     "metadata": {},
     "output_type": "execute_result"
    }
   ],
   "source": [
    "train.shape"
   ]
  },
  {
   "cell_type": "code",
   "execution_count": 44,
   "metadata": {},
   "outputs": [
    {
     "data": {
      "text/plain": [
       "(7172, 785)"
      ]
     },
     "execution_count": 44,
     "metadata": {},
     "output_type": "execute_result"
    }
   ],
   "source": [
    "test.shape"
   ]
  },
  {
   "cell_type": "code",
   "execution_count": 45,
   "metadata": {
    "_uuid": "c08c24f5b0f18610feb7fbf0d7772792f78dac8d"
   },
   "outputs": [
    {
     "data": {
      "text/plain": [
       "array([ 3,  6,  2, 13, 16,  8, 22, 18, 10, 20, 17, 19, 21, 23, 24,  1, 12,\n",
       "       11, 15,  4,  0,  5,  7, 14])"
      ]
     },
     "execution_count": 45,
     "metadata": {},
     "output_type": "execute_result"
    }
   ],
   "source": [
    "train[\"label\"].unique()"
   ]
  },
  {
   "cell_type": "code",
   "execution_count": 46,
   "metadata": {},
   "outputs": [
    {
     "data": {
      "text/plain": [
       "24"
      ]
     },
     "execution_count": 46,
     "metadata": {},
     "output_type": "execute_result"
    }
   ],
   "source": [
    "len(train[\"label\"].unique())"
   ]
  },
  {
   "cell_type": "code",
   "execution_count": 47,
   "metadata": {},
   "outputs": [
    {
     "data": {
      "text/plain": [
       "[0,\n",
       " 1,\n",
       " 2,\n",
       " 3,\n",
       " 4,\n",
       " 5,\n",
       " 6,\n",
       " 7,\n",
       " 8,\n",
       " 10,\n",
       " 11,\n",
       " 12,\n",
       " 13,\n",
       " 14,\n",
       " 15,\n",
       " 16,\n",
       " 17,\n",
       " 18,\n",
       " 19,\n",
       " 20,\n",
       " 21,\n",
       " 22,\n",
       " 23,\n",
       " 24]"
      ]
     },
     "execution_count": 47,
     "metadata": {},
     "output_type": "execute_result"
    }
   ],
   "source": [
    "sorted(train[\"label\"].unique())"
   ]
  },
  {
   "cell_type": "markdown",
   "metadata": {},
   "source": [
    "NOTE: \n",
    "- 24つクラスがある（隠れ層に）\n",
    "- 784次元ベクトルの特徴量\n",
    "- 画像のピクセルは28×28"
   ]
  },
  {
   "cell_type": "markdown",
   "metadata": {
    "_uuid": "46e4bfa083095d0ee14048250875952381d7060b"
   },
   "source": [
    "### EDA"
   ]
  },
  {
   "cell_type": "code",
   "execution_count": 12,
   "metadata": {
    "_kg_hide-input": true,
    "_uuid": "7f35db6e0ad4d62e93e82d932dea132ccd17d361",
    "scrolled": true
   },
   "outputs": [
    {
     "data": {
      "text/plain": [
       "<matplotlib.axes._subplots.AxesSubplot at 0x10f8f60b8>"
      ]
     },
     "execution_count": 12,
     "metadata": {},
     "output_type": "execute_result"
    },
    {
     "data": {
      "image/png": "[encoded data removed]",
      "text/plain": [
       "<Figure size 864x432 with 1 Axes>"
      ]
     },
     "metadata": {
      "needs_background": "light"
     },
     "output_type": "display_data"
    }
   ],
   "source": [
    "plt.figure(figsize = (12,6))\n",
    "sns.countplot(x =labels)"
   ]
  },
  {
   "cell_type": "code",
   "execution_count": 48,
   "metadata": {},
   "outputs": [
    {
     "data": {
      "text/plain": [
       "0     3\n",
       "1     6\n",
       "2     2\n",
       "3     2\n",
       "4    13\n",
       "Name: label, dtype: int64"
      ]
     },
     "execution_count": 48,
     "metadata": {},
     "output_type": "execute_result"
    }
   ],
   "source": [
    "train_T = train[\"label\"]\n",
    "train_T.head()"
   ]
  },
  {
   "cell_type": "code",
   "execution_count": 49,
   "metadata": {
    "_uuid": "cf73d03f610be9f134a3ee5e35301b1da4626d02"
   },
   "outputs": [],
   "source": [
    "train.drop(\"label\", axis=1, inplace=True)"
   ]
  },
  {
   "cell_type": "code",
   "execution_count": 50,
   "metadata": {},
   "outputs": [
    {
     "data": {
      "text/plain": [
       "24"
      ]
     },
     "execution_count": 50,
     "metadata": {},
     "output_type": "execute_result"
    }
   ],
   "source": [
    "classes = len(train_T.unique())\n",
    "classes"
   ]
  },
  {
   "cell_type": "code",
   "execution_count": null,
   "metadata": {},
   "outputs": [],
   "source": [
    "test_T = train[\"label\"]\n",
    "test.drop(\"label\", axis=1, inplace=True)"
   ]
  },
  {
   "cell_type": "markdown",
   "metadata": {
    "_uuid": "70c52bd461c45292cfda21aff61154009214e281"
   },
   "source": [
    "# 2. CNN: Build and Compile A Model"
   ]
  },
  {
   "cell_type": "code",
   "execution_count": 51,
   "metadata": {},
   "outputs": [],
   "source": [
    "import keras\n",
    "from keras.models import Sequential\n",
    "from keras.layers import Dense, Conv2D, MaxPooling2D, Flatten, Dropout"
   ]
  },
  {
   "cell_type": "code",
   "execution_count": 52,
   "metadata": {},
   "outputs": [],
   "source": [
    "model = Sequential()\n",
    "model.add(Conv2D(filters=32, kernel_size=(3, 3), activation=\"relu\", input_shape=(28,28,1)))\n",
    "model.add(MaxPooling2D(pool_size=(2, 2)))\n",
    "model.add(Conv2D(filters=64, kernel_size=(3, 3), activation=\"relu\"))\n",
    "model.add(MaxPooling2D(pool_size=(2, 2)))\n",
    "model.add(Conv2D(filters=64, kernel_size=(3, 3), activation=\"relu\"))\n",
    "model.add(MaxPooling2D(pool_size=(2, 2)))\n",
    "model.add(Flatten())\n",
    "model.add(Dense(units=128, activation=\"relu\"))\n",
    "model.add(Dropout(rate=0.2))\n",
    "model.add(Dense(units=classes, activation=\"softmax\"))"
   ]
  },
  {
   "cell_type": "code",
   "execution_count": 53,
   "metadata": {},
   "outputs": [],
   "source": [
    "model.compile(optimizer=keras.optimizers.Adam(),\n",
    "              loss=\"categorical_crossentropy\",\n",
    "              metrics=['accuracy'])"
   ]
  },
  {
   "cell_type": "markdown",
   "metadata": {},
   "source": [
    "## 3. Reshape Data\n",
    "- Featurs: DataFrame -> ndarray -> Reshape 4D\n",
    "- Target: to_categorical -> Reshape 2D"
   ]
  },
  {
   "cell_type": "code",
   "execution_count": 54,
   "metadata": {},
   "outputs": [],
   "source": [
    "from sklearn.preprocessing import LabelBinarizer\n",
    "label_binrizer = LabelBinarizer()\n",
    "train_labels = label_binrizer.fit_transform(train_T)"
   ]
  },
  {
   "cell_type": "code",
   "execution_count": 55,
   "metadata": {},
   "outputs": [
    {
     "data": {
      "text/plain": [
       "(27455, 24)"
      ]
     },
     "execution_count": 55,
     "metadata": {},
     "output_type": "execute_result"
    }
   ],
   "source": [
    "train_labels.shape"
   ]
  },
  {
   "cell_type": "code",
   "execution_count": 62,
   "metadata": {},
   "outputs": [],
   "source": [
    "test_labels = label_binrizer.fit_transform(test_T)"
   ]
  },
  {
   "cell_type": "code",
   "execution_count": 63,
   "metadata": {},
   "outputs": [
    {
     "data": {
      "text/plain": [
       "(7172, 24)"
      ]
     },
     "execution_count": 63,
     "metadata": {},
     "output_type": "execute_result"
    }
   ],
   "source": [
    "test_labels.shape"
   ]
  },
  {
   "cell_type": "code",
   "execution_count": 58,
   "metadata": {},
   "outputs": [
    {
     "data": {
      "text/plain": [
       "numpy.ndarray"
      ]
     },
     "execution_count": 58,
     "metadata": {},
     "output_type": "execute_result"
    }
   ],
   "source": [
    "type(test_labels)"
   ]
  },
  {
   "cell_type": "code",
   "execution_count": 64,
   "metadata": {},
   "outputs": [],
   "source": [
    "x_train = train.values.reshape(27455,28,28,1)\n",
    "y_train = train_labels.reshape(27455, classes)\n",
    "x_test = test.values.reshape(7172,28,28,1)\n",
    "y_test = test_labels.reshape(7172, classes)"
   ]
  },
  {
   "cell_type": "code",
   "execution_count": 67,
   "metadata": {},
   "outputs": [
    {
     "data": {
      "text/plain": [
       "<matplotlib.image.AxesImage at 0x12b923e48>"
      ]
     },
     "execution_count": 67,
     "metadata": {},
     "output_type": "execute_result"
    },
    {
     "data": {
      "image/png": "[encoded data removed]",
      "text/plain": [
       "<Figure size 432x288 with 1 Axes>"
      ]
     },
     "metadata": {
      "needs_background": "light"
     },
     "output_type": "display_data"
    }
   ],
   "source": [
    "plt.imshow(x_test[1].reshape(28,28))"
   ]
  },
  {
   "cell_type": "code",
   "execution_count": 65,
   "metadata": {},
   "outputs": [],
   "source": [
    "from sklearn.model_selection import train_test_split\n",
    "x_train, x_val, y_train, y_val = train_test_split(x_train, y_train, test_size = 0.2)"
   ]
  },
  {
   "cell_type": "markdown",
   "metadata": {},
   "source": [
    "## 4. Fit Training and Validation Data to Model"
   ]
  },
  {
   "cell_type": "code",
   "execution_count": 68,
   "metadata": {},
   "outputs": [],
   "source": [
    "BATCH_SIZE = 128\n",
    "EPOCHS = 50"
   ]
  },
  {
   "cell_type": "code",
   "execution_count": 69,
   "metadata": {
    "scrolled": true
   },
   "outputs": [
    {
     "name": "stdout",
     "output_type": "stream",
     "text": [
      "Train on 21964 samples, validate on 5491 samples\n",
      "Epoch 1/50\n",
      "21964/21964 [==============================] - 22s 998us/step - loss: 3.2899 - acc: 0.1082 - val_loss: 2.7477 - val_acc: 0.1677\n",
      "Epoch 2/50\n",
      "21964/21964 [==============================] - 22s 1ms/step - loss: 2.3434 - acc: 0.2371 - val_loss: 2.0156 - val_acc: 0.3262\n",
      "Epoch 3/50\n",
      "21964/21964 [==============================] - 21s 964us/step - loss: 1.6711 - acc: 0.4044 - val_loss: 1.2695 - val_acc: 0.5544\n",
      "Epoch 4/50\n",
      "21964/21964 [==============================] - 24s 1ms/step - loss: 1.0340 - acc: 0.6339 - val_loss: 0.5313 - val_acc: 0.8286\n",
      "Epoch 5/50\n",
      "21964/21964 [==============================] - 20s 929us/step - loss: 0.4314 - acc: 0.8557 - val_loss: 0.2000 - val_acc: 0.9425\n",
      "Epoch 6/50\n",
      "21964/21964 [==============================] - 22s 983us/step - loss: 0.1929 - acc: 0.9405 - val_loss: 0.0798 - val_acc: 0.9803\n",
      "Epoch 7/50\n",
      "21964/21964 [==============================] - 22s 982us/step - loss: 0.0844 - acc: 0.9760 - val_loss: 0.0419 - val_acc: 0.9896\n",
      "Epoch 8/50\n",
      "21964/21964 [==============================] - 23s 1ms/step - loss: 0.0514 - acc: 0.9857 - val_loss: 0.0177 - val_acc: 0.9965\n",
      "Epoch 9/50\n",
      "21964/21964 [==============================] - 22s 1ms/step - loss: 0.0362 - acc: 0.9904 - val_loss: 0.0136 - val_acc: 0.9973\n",
      "Epoch 10/50\n",
      "21964/21964 [==============================] - 30s 1ms/step - loss: 0.0368 - acc: 0.9890 - val_loss: 0.0147 - val_acc: 0.9956\n",
      "Epoch 11/50\n",
      "21964/21964 [==============================] - 24s 1ms/step - loss: 0.0228 - acc: 0.9935 - val_loss: 0.0151 - val_acc: 0.9967\n",
      "Epoch 12/50\n",
      "21964/21964 [==============================] - 22s 1ms/step - loss: 0.0173 - acc: 0.9951 - val_loss: 0.0075 - val_acc: 0.9982\n",
      "Epoch 13/50\n",
      "21964/21964 [==============================] - 20s 912us/step - loss: 0.0265 - acc: 0.9919 - val_loss: 0.0085 - val_acc: 0.9975\n",
      "Epoch 14/50\n",
      "21964/21964 [==============================] - 23s 1ms/step - loss: 0.0182 - acc: 0.9950 - val_loss: 0.0076 - val_acc: 0.9978\n",
      "Epoch 15/50\n",
      "21964/21964 [==============================] - 24s 1ms/step - loss: 0.0138 - acc: 0.9957 - val_loss: 0.0057 - val_acc: 0.9980\n",
      "Epoch 16/50\n",
      "21964/21964 [==============================] - 24s 1ms/step - loss: 0.0300 - acc: 0.9903 - val_loss: 0.0234 - val_acc: 0.9933\n",
      "Epoch 17/50\n",
      "21964/21964 [==============================] - 27s 1ms/step - loss: 0.0174 - acc: 0.9944 - val_loss: 0.0058 - val_acc: 0.9989\n",
      "Epoch 18/50\n",
      "21964/21964 [==============================] - 21s 961us/step - loss: 0.0091 - acc: 0.9974 - val_loss: 0.0452 - val_acc: 0.9842\n",
      "Epoch 19/50\n",
      "21964/21964 [==============================] - 22s 1ms/step - loss: 0.0404 - acc: 0.9862 - val_loss: 0.0293 - val_acc: 0.9900\n",
      "Epoch 20/50\n",
      "21964/21964 [==============================] - 22s 989us/step - loss: 0.0195 - acc: 0.9933 - val_loss: 0.0075 - val_acc: 0.9978\n",
      "Epoch 21/50\n",
      "21964/21964 [==============================] - 22s 998us/step - loss: 0.0073 - acc: 0.9976 - val_loss: 0.0039 - val_acc: 0.9989\n",
      "Epoch 22/50\n",
      "21964/21964 [==============================] - 20s 928us/step - loss: 0.0087 - acc: 0.9974 - val_loss: 0.0294 - val_acc: 0.9893\n",
      "Epoch 23/50\n",
      "21964/21964 [==============================] - 21s 942us/step - loss: 0.0346 - acc: 0.9886 - val_loss: 0.0043 - val_acc: 0.9991\n",
      "Epoch 24/50\n",
      "21964/21964 [==============================] - 23s 1ms/step - loss: 0.0337 - acc: 0.9902 - val_loss: 0.0087 - val_acc: 0.9980\n",
      "Epoch 25/50\n",
      "21964/21964 [==============================] - 20s 928us/step - loss: 0.0034 - acc: 0.9993 - val_loss: 0.0012 - val_acc: 0.9996\n",
      "Epoch 26/50\n",
      "21964/21964 [==============================] - 19s 847us/step - loss: 0.0024 - acc: 0.9994 - val_loss: 0.0018 - val_acc: 0.9995\n",
      "Epoch 27/50\n",
      "21964/21964 [==============================] - 18s 842us/step - loss: 0.0053 - acc: 0.9983 - val_loss: 0.0146 - val_acc: 0.9953\n",
      "Epoch 28/50\n",
      "21964/21964 [==============================] - 19s 857us/step - loss: 0.0374 - acc: 0.9888 - val_loss: 0.0055 - val_acc: 0.9984\n",
      "Epoch 29/50\n",
      "21964/21964 [==============================] - 18s 836us/step - loss: 0.0218 - acc: 0.9919 - val_loss: 0.0136 - val_acc: 0.9960\n",
      "Epoch 30/50\n",
      "21964/21964 [==============================] - 18s 840us/step - loss: 0.0193 - acc: 0.9940 - val_loss: 0.0025 - val_acc: 0.9995\n",
      "Epoch 31/50\n",
      "21964/21964 [==============================] - 26s 1ms/step - loss: 0.0019 - acc: 0.9995 - val_loss: 0.0021 - val_acc: 0.9995\n",
      "Epoch 32/50\n",
      "21964/21964 [==============================] - 32s 1ms/step - loss: 0.0023 - acc: 0.9994 - val_loss: 0.0062 - val_acc: 0.9984\n",
      "Epoch 33/50\n",
      "21964/21964 [==============================] - 29s 1ms/step - loss: 0.0172 - acc: 0.9951 - val_loss: 0.0206 - val_acc: 0.9933\n",
      "Epoch 34/50\n",
      "21964/21964 [==============================] - 28s 1ms/step - loss: 0.0306 - acc: 0.9903 - val_loss: 0.0091 - val_acc: 0.9973\n",
      "Epoch 35/50\n",
      "21964/21964 [==============================] - 29s 1ms/step - loss: 0.0073 - acc: 0.9978 - val_loss: 0.0014 - val_acc: 0.9998\n",
      "Epoch 36/50\n",
      "21964/21964 [==============================] - 23s 1ms/step - loss: 0.0017 - acc: 0.9995 - val_loss: 3.2227e-04 - val_acc: 1.0000\n",
      "Epoch 37/50\n",
      "21964/21964 [==============================] - 25s 1ms/step - loss: 0.0011 - acc: 0.9998 - val_loss: 0.0026 - val_acc: 0.9993\n",
      "Epoch 38/50\n",
      "21964/21964 [==============================] - 26s 1ms/step - loss: 0.0289 - acc: 0.9909 - val_loss: 0.0240 - val_acc: 0.9925\n",
      "Epoch 39/50\n",
      "21964/21964 [==============================] - 42s 2ms/step - loss: 0.0124 - acc: 0.9958 - val_loss: 0.0017 - val_acc: 0.9995\n",
      "Epoch 40/50\n",
      "21964/21964 [==============================] - 40s 2ms/step - loss: 0.0146 - acc: 0.9957 - val_loss: 0.0234 - val_acc: 0.9924\n",
      "Epoch 41/50\n",
      "21964/21964 [==============================] - 40s 2ms/step - loss: 0.0316 - acc: 0.9910 - val_loss: 0.0176 - val_acc: 0.9940\n",
      "Epoch 42/50\n",
      "21964/21964 [==============================] - 36s 2ms/step - loss: 0.0119 - acc: 0.9959 - val_loss: 3.3590e-04 - val_acc: 1.0000\n",
      "Epoch 43/50\n",
      "21964/21964 [==============================] - 29s 1ms/step - loss: 0.0011 - acc: 0.9997 - val_loss: 2.9675e-04 - val_acc: 1.0000\n",
      "Epoch 44/50\n",
      "21964/21964 [==============================] - 31s 1ms/step - loss: 2.2540e-04 - acc: 1.0000 - val_loss: 3.6602e-04 - val_acc: 1.0000\n",
      "Epoch 45/50\n",
      "21964/21964 [==============================] - 31s 1ms/step - loss: 2.7918e-04 - acc: 1.0000 - val_loss: 7.9477e-04 - val_acc: 0.9996\n",
      "Epoch 46/50\n",
      "21964/21964 [==============================] - 28s 1ms/step - loss: 7.6539e-04 - acc: 0.9998 - val_loss: 0.0026 - val_acc: 0.9993\n",
      "Epoch 47/50\n",
      "21964/21964 [==============================] - 32s 1ms/step - loss: 0.0338 - acc: 0.9902 - val_loss: 0.0144 - val_acc: 0.9951\n",
      "Epoch 48/50\n",
      "21964/21964 [==============================] - 30s 1ms/step - loss: 0.0255 - acc: 0.9929 - val_loss: 0.0163 - val_acc: 0.9936\n",
      "Epoch 49/50\n",
      "21964/21964 [==============================] - 28s 1ms/step - loss: 0.0151 - acc: 0.9953 - val_loss: 0.0051 - val_acc: 0.9971\n",
      "Epoch 50/50\n",
      "21964/21964 [==============================] - 29s 1ms/step - loss: 0.0133 - acc: 0.9954 - val_loss: 0.0164 - val_acc: 0.9949\n"
     ]
    }
   ],
   "source": [
    "history = model.fit(x_train, y_train, validation_data=(x_val, y_val), epochs=EPOCHS, batch_size=BATCH_SIZE)"
   ]
  },
  {
   "cell_type": "markdown",
   "metadata": {},
   "source": [
    "### Visualize Learning Process"
   ]
  },
  {
   "cell_type": "code",
   "execution_count": 73,
   "metadata": {
    "_uuid": "fb2775e7f90958e544d84c476bcb52bd985e6395",
    "scrolled": true
   },
   "outputs": [
    {
     "data": {
      "image/png": "[encoded data removed]",
      "text/plain": [
       "<Figure size 432x288 with 1 Axes>"
      ]
     },
     "metadata": {
      "needs_background": "light"
     },
     "output_type": "display_data"
    }
   ],
   "source": [
    "plt.plot(history.history[\"acc\"])\n",
    "plt.plot(history.history[\"val_acc\"])\n",
    "plt.title(\"Accuracy\")\n",
    "plt.xlabel(\"epoch\")\n",
    "plt.ylabel(\"accuracy\")\n",
    "plt.legend([\"train\", \"test\"])\n",
    "plt.show()"
   ]
  },
  {
   "cell_type": "markdown",
   "metadata": {},
   "source": [
    "## 5. Evaluate Model"
   ]
  },
  {
   "cell_type": "code",
   "execution_count": 74,
   "metadata": {},
   "outputs": [
    {
     "name": "stdout",
     "output_type": "stream",
     "text": [
      "7172/7172 [==============================] - 3s 393us/step\n"
     ]
    },
    {
     "data": {
      "text/plain": [
       "[1.499986964367783, 0.8105131065253764]"
      ]
     },
     "execution_count": 74,
     "metadata": {},
     "output_type": "execute_result"
    }
   ],
   "source": [
    "model.evaluate(x=x_test, y=y_test, verbose=1)"
   ]
  },
  {
   "cell_type": "markdown",
   "metadata": {},
   "source": [
    "- 損失値関数: 1.499986964367783\n",
    "- 評価値: 0.8105131065253764"
   ]
  },
  {
   "cell_type": "markdown",
   "metadata": {
    "_uuid": "8e4a7b58496038c7d5b33b30e5039cd6f283369e"
   },
   "source": [
    "## 6. Predecting with test images"
   ]
  },
  {
   "cell_type": "code",
   "execution_count": 76,
   "metadata": {
    "_uuid": "338856c7e654588d95949cac42bdec5e9764577c"
   },
   "outputs": [],
   "source": [
    "from sklearn.metrics import classification_report"
   ]
  },
  {
   "cell_type": "code",
   "execution_count": 90,
   "metadata": {},
   "outputs": [
    {
     "data": {
      "text/plain": [
       "array([[[[149],\n",
       "         [149],\n",
       "         [150],\n",
       "         ...,\n",
       "         [150],\n",
       "         [150],\n",
       "         [149]],\n",
       "\n",
       "        [[150],\n",
       "         [150],\n",
       "         [150],\n",
       "         ...,\n",
       "         [151],\n",
       "         [150],\n",
       "         [151]],\n",
       "\n",
       "        [[150],\n",
       "         [151],\n",
       "         [151],\n",
       "         ...,\n",
       "         [151],\n",
       "         [151],\n",
       "         [152]],\n",
       "\n",
       "        ...,\n",
       "\n",
       "        [[ 69],\n",
       "         [ 69],\n",
       "         [ 77],\n",
       "         ...,\n",
       "         [116],\n",
       "         [113],\n",
       "         [118]],\n",
       "\n",
       "        [[ 74],\n",
       "         [ 75],\n",
       "         [ 76],\n",
       "         ...,\n",
       "         [110],\n",
       "         [116],\n",
       "         [113]],\n",
       "\n",
       "        [[ 75],\n",
       "         [ 74],\n",
       "         [ 74],\n",
       "         ...,\n",
       "         [112],\n",
       "         [120],\n",
       "         [107]]],\n",
       "\n",
       "\n",
       "       [[[126],\n",
       "         [128],\n",
       "         [131],\n",
       "         ...,\n",
       "         [133],\n",
       "         [134],\n",
       "         [132]],\n",
       "\n",
       "        [[129],\n",
       "         [132],\n",
       "         [134],\n",
       "         ...,\n",
       "         [136],\n",
       "         [136],\n",
       "         [134]],\n",
       "\n",
       "        [[133],\n",
       "         [135],\n",
       "         [138],\n",
       "         ...,\n",
       "         [140],\n",
       "         [139],\n",
       "         [138]],\n",
       "\n",
       "        ...,\n",
       "\n",
       "        [[173],\n",
       "         [174],\n",
       "         [177],\n",
       "         ...,\n",
       "         [184],\n",
       "         [182],\n",
       "         [181]],\n",
       "\n",
       "        [[172],\n",
       "         [174],\n",
       "         [177],\n",
       "         ...,\n",
       "         [184],\n",
       "         [182],\n",
       "         [181]],\n",
       "\n",
       "        [[172],\n",
       "         [174],\n",
       "         [177],\n",
       "         ...,\n",
       "         [184],\n",
       "         [182],\n",
       "         [180]]],\n",
       "\n",
       "\n",
       "       [[[ 85],\n",
       "         [ 88],\n",
       "         [ 92],\n",
       "         ...,\n",
       "         [182],\n",
       "         [181],\n",
       "         [178]],\n",
       "\n",
       "        [[ 86],\n",
       "         [ 88],\n",
       "         [ 93],\n",
       "         ...,\n",
       "         [183],\n",
       "         [181],\n",
       "         [179]],\n",
       "\n",
       "        [[ 86],\n",
       "         [ 89],\n",
       "         [ 93],\n",
       "         ...,\n",
       "         [185],\n",
       "         [183],\n",
       "         [181]],\n",
       "\n",
       "        ...,\n",
       "\n",
       "        [[ 91],\n",
       "         [ 94],\n",
       "         [ 97],\n",
       "         ...,\n",
       "         [224],\n",
       "         [222],\n",
       "         [221]],\n",
       "\n",
       "        [[ 90],\n",
       "         [ 92],\n",
       "         [ 96],\n",
       "         ...,\n",
       "         [225],\n",
       "         [224],\n",
       "         [222]],\n",
       "\n",
       "        [[ 89],\n",
       "         [ 91],\n",
       "         [ 94],\n",
       "         ...,\n",
       "         [225],\n",
       "         [224],\n",
       "         [222]]],\n",
       "\n",
       "\n",
       "       ...,\n",
       "\n",
       "\n",
       "       [[[190],\n",
       "         [191],\n",
       "         [190],\n",
       "         ...,\n",
       "         [185],\n",
       "         [184],\n",
       "         [183]],\n",
       "\n",
       "        [[193],\n",
       "         [193],\n",
       "         [193],\n",
       "         ...,\n",
       "         [186],\n",
       "         [185],\n",
       "         [184]],\n",
       "\n",
       "        [[195],\n",
       "         [194],\n",
       "         [195],\n",
       "         ...,\n",
       "         [187],\n",
       "         [186],\n",
       "         [187]],\n",
       "\n",
       "        ...,\n",
       "\n",
       "        [[214],\n",
       "         [215],\n",
       "         [213],\n",
       "         ...,\n",
       "         [208],\n",
       "         [208],\n",
       "         [208]],\n",
       "\n",
       "        [[214],\n",
       "         [215],\n",
       "         [209],\n",
       "         ...,\n",
       "         [209],\n",
       "         [208],\n",
       "         [207]],\n",
       "\n",
       "        [[215],\n",
       "         [215],\n",
       "         [207],\n",
       "         ...,\n",
       "         [211],\n",
       "         [209],\n",
       "         [208]]],\n",
       "\n",
       "\n",
       "       [[[201],\n",
       "         [205],\n",
       "         [208],\n",
       "         ...,\n",
       "         [239],\n",
       "         [239],\n",
       "         [239]],\n",
       "\n",
       "        [[206],\n",
       "         [209],\n",
       "         [212],\n",
       "         ...,\n",
       "         [242],\n",
       "         [242],\n",
       "         [242]],\n",
       "\n",
       "        [[210],\n",
       "         [214],\n",
       "         [216],\n",
       "         ...,\n",
       "         [246],\n",
       "         [245],\n",
       "         [244]],\n",
       "\n",
       "        ...,\n",
       "\n",
       "        [[255],\n",
       "         [255],\n",
       "         [255],\n",
       "         ...,\n",
       "         [255],\n",
       "         [200],\n",
       "         [142]],\n",
       "\n",
       "        [[255],\n",
       "         [255],\n",
       "         [255],\n",
       "         ...,\n",
       "         [ 99],\n",
       "         [ 80],\n",
       "         [ 77]],\n",
       "\n",
       "        [[255],\n",
       "         [255],\n",
       "         [255],\n",
       "         ...,\n",
       "         [ 67],\n",
       "         [ 70],\n",
       "         [ 63]]],\n",
       "\n",
       "\n",
       "       [[[173],\n",
       "         [174],\n",
       "         [173],\n",
       "         ...,\n",
       "         [168],\n",
       "         [167],\n",
       "         [166]],\n",
       "\n",
       "        [[176],\n",
       "         [176],\n",
       "         [176],\n",
       "         ...,\n",
       "         [168],\n",
       "         [168],\n",
       "         [167]],\n",
       "\n",
       "        [[178],\n",
       "         [177],\n",
       "         [178],\n",
       "         ...,\n",
       "         [169],\n",
       "         [168],\n",
       "         [169]],\n",
       "\n",
       "        ...,\n",
       "\n",
       "        [[198],\n",
       "         [199],\n",
       "         [199],\n",
       "         ...,\n",
       "         [192],\n",
       "         [192],\n",
       "         [192]],\n",
       "\n",
       "        [[198],\n",
       "         [200],\n",
       "         [193],\n",
       "         ...,\n",
       "         [193],\n",
       "         [192],\n",
       "         [191]],\n",
       "\n",
       "        [[199],\n",
       "         [201],\n",
       "         [190],\n",
       "         ...,\n",
       "         [195],\n",
       "         [193],\n",
       "         [192]]]])"
      ]
     },
     "execution_count": 90,
     "metadata": {},
     "output_type": "execute_result"
    }
   ],
   "source": [
    "x_test"
   ]
  },
  {
   "cell_type": "code",
   "execution_count": 92,
   "metadata": {
    "_uuid": "27670fc85328b772e9cf2446f091be92bf85c44b"
   },
   "outputs": [],
   "source": [
    "y_pred = model.predict(x_test)"
   ]
  },
  {
   "cell_type": "code",
   "execution_count": 83,
   "metadata": {},
   "outputs": [
    {
     "data": {
      "text/plain": [
       "array([[3.6635620e-16, 2.8389112e-14, 2.2425256e-12, ..., 1.0121256e-21,\n",
       "        5.3831762e-22, 3.0473148e-19],\n",
       "       [2.3897787e-23, 5.5112672e-05, 3.5015173e-24, ..., 3.3365980e-02,\n",
       "        2.8143576e-21, 2.8579295e-18],\n",
       "       [0.0000000e+00, 4.0706710e-24, 7.2155928e-33, ..., 2.9447358e-26,\n",
       "        7.4778523e-19, 1.3920507e-19],\n",
       "       ...,\n",
       "       [2.7739713e-36, 1.5325371e-25, 9.9973708e-01, ..., 0.0000000e+00,\n",
       "        1.9101558e-26, 3.3589314e-33],\n",
       "       [4.9285117e-27, 1.4593779e-29, 0.0000000e+00, ..., 0.0000000e+00,\n",
       "        0.0000000e+00, 0.0000000e+00],\n",
       "       [0.0000000e+00, 7.9510837e-30, 9.9998212e-01, ..., 0.0000000e+00,\n",
       "        1.4802186e-31, 0.0000000e+00]], dtype=float32)"
      ]
     },
     "execution_count": 83,
     "metadata": {},
     "output_type": "execute_result"
    }
   ],
   "source": [
    "y_pred"
   ]
  },
  {
   "cell_type": "code",
   "execution_count": 84,
   "metadata": {
    "_uuid": "eeb5aed5bf49f586df371798cb0bd25f437f60de"
   },
   "outputs": [
    {
     "name": "stderr",
     "output_type": "stream",
     "text": [
      "/Users/akr712/.pyenv/versions/jupyter3/lib/python3.5/site-packages/sklearn/metrics/classification.py:1143: UndefinedMetricWarning: Precision and F-score are ill-defined and being set to 0.0 in samples with no predicted labels.\n",
      "  'precision', 'predicted', average, warn_for)\n"
     ]
    },
    {
     "data": {
      "text/plain": [
       "'              precision    recall  f1-score   support\\n\\n           0       0.94      1.00      0.97       331\\n           1       1.00      0.90      0.95       432\\n           2       0.93      0.91      0.92       310\\n           3       0.67      0.74      0.70       245\\n           4       0.91      0.90      0.90       498\\n           5       0.83      0.91      0.87       247\\n           6       0.71      0.62      0.66       348\\n           7       0.75      0.85      0.79       436\\n           8       0.85      0.93      0.89       288\\n           9       0.88      0.73      0.80       331\\n          10       0.90      0.86      0.88       209\\n          11       0.73      0.65      0.69       394\\n          12       0.76      0.80      0.78       291\\n          13       0.89      0.76      0.82       246\\n          14       0.83      0.87      0.85       347\\n          15       0.95      1.00      0.98       164\\n          16       0.49      0.60      0.54       144\\n          17       0.85      0.72      0.78       246\\n          18       0.70      0.39      0.50       248\\n          19       0.60      1.00      0.75       266\\n          20       0.72      0.59      0.65       346\\n          21       0.90      1.00      0.94       206\\n          22       0.73      0.77      0.75       267\\n          23       0.92      0.88      0.90       332\\n\\n   micro avg       0.81      0.81      0.81      7172\\n   macro avg       0.81      0.81      0.80      7172\\nweighted avg       0.82      0.81      0.81      7172\\n samples avg       0.81      0.81      0.81      7172\\n'"
      ]
     },
     "execution_count": 84,
     "metadata": {},
     "output_type": "execute_result"
    }
   ],
   "source": [
    "classification_report(y_test.round(), y_pred.round())"
   ]
  }
 ],
 "metadata": {
  "kernelspec": {
   "display_name": "Python 3",
   "language": "python",
   "name": "python3"
  },
  "language_info": {
   "codemirror_mode": {
    "name": "ipython",
    "version": 3
   },
   "file_extension": ".py",
   "mimetype": "text/x-python",
   "name": "python",
   "nbconvert_exporter": "python",
   "pygments_lexer": "ipython3",
   "version": "3.5.1"
  }
 },
 "nbformat": 4,
 "nbformat_minor": 1
}
